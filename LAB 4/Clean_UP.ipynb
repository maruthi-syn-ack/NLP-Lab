{
 "cells": [
  {
   "cell_type": "markdown",
   "id": "c5e35588-be88-438c-901c-c03da5116969",
   "metadata": {},
   "source": [
    "# Write a program to create and read a input file perform basic cleanup Operation on a the text file like  \n",
    "    - removing HTML tags \n",
    "    - URLs\n",
    "    - Duplicate text \n",
    "    - Spelling Corrections  \n",
    "## amd writ it to a new output file \n"
   ]
  },
  {
   "cell_type": "code",
   "execution_count": 12,
   "id": "8fd2e2c5-8c8f-4ff4-9d30-ff8feab574df",
   "metadata": {},
   "outputs": [
    {
     "name": "stdout",
     "output_type": "stream",
     "text": [
      "Requirement already satisfied: pyspellchecker in /home/dell/Documents/NLP/1SI20AD009/NLP/lib/python3.10/site-packages (0.7.2)\n",
      "Requirement already satisfied: beautifulsoup4 in /home/dell/Documents/NLP/1SI20AD009/NLP/lib/python3.10/site-packages (4.12.2)\n",
      "Requirement already satisfied: soupsieve>1.2 in /home/dell/Documents/NLP/1SI20AD009/NLP/lib/python3.10/site-packages (from beautifulsoup4) (2.5)\n",
      "Next_word.ipynb  Test.txt  Text_cleanup.ipynb\n"
     ]
    }
   ],
   "source": [
    "!pip install pyspellchecker\n",
    "!pip install beautifulsoup4\n"
   ]
  },
  {
   "cell_type": "code",
   "execution_count": 13,
   "id": "566e7312-e2b5-4482-9887-701f39b219c3",
   "metadata": {},
   "outputs": [],
   "source": [
    "#input file def \n",
    "def Data_ingestion():\n",
    "    inf_name = input(\"Enter File name along with file extension\")\n",
    "    \n",
    "    infile = open(f\"{inf_name}\")\n",
    "\n",
    "    Text_corp = infile.readlines()\n",
    "\n",
    "    return Text_corp\n"
   ]
  },
  {
   "cell_type": "code",
   "execution_count": 29,
   "id": "c4d349e2-88a0-480f-9c72-34b654995212",
   "metadata": {},
   "outputs": [
    {
     "name": "stdin",
     "output_type": "stream",
     "text": [
      "Enter File name along with file extension Test.txt\n"
     ]
    },
    {
     "name": "stdout",
     "output_type": "stream",
     "text": [
      "<class 'str'>\n",
      "\n",
      "    Select what all to be removed from the source file :\n",
      "    \n"
     ]
    },
    {
     "name": "stdin",
     "output_type": "stream",
     "text": [
      "Would you like to remove HTML Tags (Y/N): y\n"
     ]
    },
    {
     "name": "stdout",
     "output_type": "stream",
     "text": [
      "['This is a sample text containing HTML tags  and URLs http://example.com.\\n', 'You may have duplicate text in this file. Duplicate text.\\n', 'Lorem ipsum dolor sit amet, consectetur adipiscing elit. Sed ac libero vel nunc. Morbi bibendum facilisis. Fusce luctus tincidunt lorem.\\n', '\\n', 'Here are some more sample URLs:\\n', '- https://www.example.com\\n', '- http://www.samplewebsite.com\\n', '- http://www.anotherexample.com\\n', '\\n', 'This is an example of text with spelling erorrs. Thier are some spelkink mistake.\\n', '\\n', 'Lorem ipsum dolor sit amet, consectetur adipiscing elit. Sed ac libero vel nunc. Morbi bibendum facilisis. Fusce luctus tincidunt lorem.\\n']\n"
     ]
    },
    {
     "name": "stdin",
     "output_type": "stream",
     "text": [
      "Would you like to remove URLs (Y/N): \n"
     ]
    },
    {
     "name": "stdout",
     "output_type": "stream",
     "text": [
      "['This is a sample text containing HTML tags  and URLs  'You may have duplicate text in this file. Duplicate text.\\n', 'Lorem ipsum dolor sit amet, consectetur adipiscing elit. Sed ac libero vel nunc. Morbi bibendum facilisis. Fusce luctus tincidunt lorem.\\n', '\\n', 'Here are some more sample URLs:\\n', '-  '-  '-  '\\n', 'This is an example of text with spelling erorrs. Thier are some spelkink mistake.\\n', '\\n', 'Lorem ipsum dolor sit amet, consectetur adipiscing elit. Sed ac libero vel nunc. Morbi bibendum facilisis. Fusce luctus tincidunt lorem.\\n']\n"
     ]
    },
    {
     "name": "stdin",
     "output_type": "stream",
     "text": [
      "Would you like to remove Duplicate text(Y/N): y\n"
     ]
    },
    {
     "name": "stdout",
     "output_type": "stream",
     "text": [
      "['This is a sample text containing HTML tags  and URLs  'You may have duplicate text in this file. Duplicate text.\\n', 'Lorem ipsum dolor sit amet, consectetur adipiscing elit. Sed ac libero vel nunc. Morbi bibendum facilisis. Fusce luctus tincidunt lorem.\\n', '\\n', 'Here are some more sample URLs:\\n', '-  '-  '-  '\\n', 'This is an example of text with spelling erorrs. Thier are some spelkink mistake.\\n', '\\n', 'Lorem ipsum dolor sit amet, consectetur adipiscing elit. Sed ac libero vel nunc. Morbi bibendum facilisis. Fusce luctus tincidunt lorem.\\n']\n"
     ]
    },
    {
     "name": "stdin",
     "output_type": "stream",
     "text": [
      "Would you like to Check for spelling (Y/N): y\n"
     ]
    },
    {
     "name": "stdout",
     "output_type": "stream",
     "text": [
      "['this', 'is', 'a', 'sample', 'text', 'containing', 'himl', 'tags', 'and', 'curls', 'you', 'may', 'have', 'duplicate', 'text', 'in', 'this', 'file', 'Duplicate', 'lore', 'issue', 'dolor', 'sit', 'met', 'elite', 'Sed', 'ac', 'libera', 'vel', 'nunca', 'morbid', 'fuse', 'lucius', 'incident', 'there', 'are', 'some', 'more', 'sample', 'i', 'i', 'i', 'this', 'is', 'an', 'example', 'of', 'text', 'with', 'spelling', 'errors', 'their', 'are', 'some', 'speaking', 'lore', 'issue', 'dolor', 'sit', 'met', 'elite', 'Sed', 'ac', 'libera', 'vel', 'nunca', 'morbid', 'fuse', 'lucius', 'incident']\n",
      "this is a sample text containing himl tags and curls you may have duplicate text in this file Duplicate lore issue dolor sit met elite Sed ac libera vel nunca morbid fuse lucius incident there are some more sample i i i this is an example of text with spelling errors their are some speaking lore issue dolor sit met elite Sed ac libera vel nunca morbid fuse lucius incident\n"
     ]
    },
    {
     "name": "stdin",
     "output_type": "stream",
     "text": [
      "Enter Output Filename out.txt\n"
     ]
    }
   ],
   "source": [
    "import re\n",
    "from bs4 import BeautifulSoup  # You need to install BeautifulSoup (bs4) for HTML tag removal\n",
    "from difflib import SequenceMatcher  # For finding similar strings\n",
    "from spellchecker import SpellChecker \n",
    "\n",
    "# Function to remove HTML tags from text using BeautifulSoup\n",
    "def remove_html_tags(text):\n",
    "    soup = BeautifulSoup(text, \"html.parser\")\n",
    "    return soup.get_text()\n",
    "\n",
    "# Function to remove URLs from text using regular expressions\n",
    "def remove_urls(text):\n",
    "    return re.sub(r'http\\S+', '', text) or re.sub(r'https\\S+', '', text) \n",
    "\n",
    "# Function to remove duplicate text using SequenceMatcher\n",
    "def remove_duplicates(text):\n",
    "    lines = text.split('\\n')\n",
    "    unique_lines = []\n",
    "    for line in lines:\n",
    "        if not any(SequenceMatcher(None, line, ul).ratio() > 0.8 for ul in unique_lines):\n",
    "            unique_lines.append(line)\n",
    "    return '\\n'.join(unique_lines)\n",
    "\n",
    "# Function for spelling corrections (you can use external libraries like pyspellchecker)\n",
    "def correct_spelling(text):\n",
    "    spell = SpellChecker()\n",
    "    words = text.split()\n",
    "    corrected_words = [spell.correction(word) for word in words]\n",
    "    clean_list = []\n",
    "    for word in corrected_words:\n",
    "        if word != None:\n",
    "            clean_list.append(word) \n",
    "    print(clean_list)\n",
    "    return ' '.join(clean_list)\n",
    "\n",
    "\n",
    "\n",
    "\n",
    "\n",
    "if __name__ == \"__main__\":\n",
    "    text = Data_ingestion()\n",
    "    print(type(str(text)))\n",
    "    print (\"\"\"\n",
    "    Select what all to be removed from the source file :\n",
    "    \"\"\")\n",
    "    # ch = input(\"\")\n",
    "    text = str(text)\n",
    "    ch = input(\"Would you like to remove HTML Tags (Y/N):\")\n",
    "    if ch == 'Y'or 'y':\n",
    "        text = remove_html_tags(text)\n",
    "        print(text)\n",
    "    ch = input(\"Would you like to remove URLs (Y/N):\")\n",
    "    if ch == 'Y'or 'y':\n",
    "        text = remove_urls(text)\n",
    "        print(text)\n",
    "    ch = input(\"Would you like to remove Duplicate text(Y/N):\")\n",
    "    if ch == 'Y'or 'y':\n",
    "        text = remove_duplicates(text)\n",
    "        print(text)\n",
    "    ch = input(\"Would you like to Check for spelling (Y/N):\")\n",
    "    if ch == 'Y'or 'y':\n",
    "         text = str(correct_spelling(text))\n",
    "         print(text)\n",
    "\n",
    "    opt_file = input(\"Enter Output Filename\")\n",
    "    with open(opt_file, 'w', encoding='utf-8') as output_file:\n",
    "        output_file.write(str(text))\n",
    "\n",
    "    "
   ]
  }
 ],
 "metadata": {
  "kernelspec": {
   "display_name": "Python 3 (ipykernel)",
   "language": "python",
   "name": "python3"
  },
  "language_info": {
   "codemirror_mode": {
    "name": "ipython",
    "version": 3
   },
   "file_extension": ".py",
   "mimetype": "text/x-python",
   "name": "python",
   "nbconvert_exporter": "python",
   "pygments_lexer": "ipython3",
   "version": "3.10.12"
  }
 },
 "nbformat": 4,
 "nbformat_minor": 5
}
