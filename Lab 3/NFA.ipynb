{
 "cells": [
  {
   "cell_type": "code",
   "execution_count": 1,
   "id": "11cf0643-2cdf-423f-b2de-5ffedf8de149",
   "metadata": {},
   "outputs": [],
   "source": [
    "def Set_states():\n",
    "    nfa = {\n",
    "    'states': set(),\n",
    "    'alphabet': set(),\n",
    "    'transitions': {},\n",
    "    'start_state': None,\n",
    "    'accept_states': set()\n",
    "    }\n",
    "\n",
    "\n",
    "    # Input states\n",
    "    states_input = input(\"Enter states (comma-separated): \")\n",
    "    nfa['states'] = set(states_input.split(','))\n",
    "    \n",
    "    # Input alphabet\n",
    "    alphabet_input = input(\"Enter alphabet symbols (comma-separated): \")\n",
    "    nfa['alphabet'] = set(alphabet_input.split(','))\n",
    "    \n",
    "    # Input transitions\n",
    "    print(\"Enter transitions (Enter 'done' when finished):\")\n",
    "    while True:\n",
    "        state = input(\"From state (Enter 'done' to stop): \")\n",
    "        if state == 'done':\n",
    "            break\n",
    "        symbol = input(\"On symbol: \")\n",
    "        to_states_input = input(\"To states (comma-separated): \")\n",
    "        to_states = set(to_states_input.split(','))\n",
    "        if state not in nfa['transitions']:\n",
    "            nfa['transitions'][state] = {}\n",
    "        nfa['transitions'][state][symbol] = to_states\n",
    "    # Input initial state\n",
    "    start_state = input(\"Enter initial state: \")\n",
    "    nfa['start_state'] = start_state\n",
    "    # Input accepting states\n",
    "    accept_states_input = input(\"Enter accepting states (comma-separated): \")\n",
    "    nfa['accept_states'] = set(accept_states_input.split(','))\n",
    "    return nfa\n",
    "    \n"
   ]
  },
  {
   "cell_type": "code",
   "execution_count": 2,
   "id": "40c08f29-57a2-4340-b698-9437af3fd1b7",
   "metadata": {},
   "outputs": [],
   "source": [
    "def Process_NFA_bfs(nfa, input_string):\n",
    "    \n",
    "\n",
    "    from collections import deque \n",
    "    \"\"\"\n",
    "    Run the NFA on the given input string and check if it's accepted or not using BFS.\n",
    "    \"\"\"\n",
    "    current_states = {nfa['start_state']}\n",
    "    queue = deque()\n",
    "    queue.append(current_states)\n",
    "    \n",
    "    print(f\"Start state: {current_states}\")\n",
    "\n",
    "    for symbol in input_string:\n",
    "        if symbol not in nfa['alphabet']:\n",
    "            print(f\"Invalid symbol: {symbol}\")\n",
    "            return False  # Invalid symbol\n",
    "\n",
    "        next_states = set()\n",
    "\n",
    "        for state in current_states:\n",
    "            next_states.update(nfa['transitions'][state].get(symbol, set()))\n",
    "\n",
    "        if not next_states:\n",
    "            print(f\"No transition from states {current_states} with symbol {symbol}\")\n",
    "            return False\n",
    "\n",
    "        print(\"--------------------------------------------------------------------------------------\")\n",
    "        print(f\"Transition from states {current_states} to states {next_states} with symbol {symbol}\")\n",
    "        print(\"--------------------------------------------------------------------------------------\")\n",
    "        \n",
    "        queue.append(next_states)\n",
    "        current_states = next_states\n",
    "\n",
    "    # Continue BFS until the end of the input string\n",
    "    while queue:\n",
    "        current_states = queue.popleft()\n",
    "\n",
    "    return any(state in nfa['accept_states'] for state in current_states)\n"
   ]
  },
  {
   "cell_type": "code",
   "execution_count": 5,
   "id": "1c8ebb72-9de3-4665-ab18-b00e57e0c61b",
   "metadata": {},
   "outputs": [
    {
     "name": "stdout",
     "output_type": "stream",
     "text": [
      "-----------------------------------------------------------------------------------------\n",
      " 1.Create a new NFA state Instance \n",
      " 2. Validate Strings With already created NFA \n",
      " 3. Exit()\n",
      "\n",
      "\n",
      "\n"
     ]
    },
    {
     "name": "stdin",
     "output_type": "stream",
     "text": [
      " 3\n"
     ]
    },
    {
     "name": "stdout",
     "output_type": "stream",
     "text": [
      "Exiting Program\n"
     ]
    }
   ],
   "source": [
    "\n",
    "if __name__ == \"__main__\":\n",
    "    ch=0\n",
    "    while ch!=3: \n",
    "        print(\"-----------------------------------------------------------------------------------------\")\n",
    "        print(\" 1.Create a new NFA state Instance \\n 2. Validate Strings With already created NFA \\n 3. Exit()\")\n",
    "        print(\"\\n\\n\")\n",
    "        ch = int(input())\n",
    "        if(ch == 1):\n",
    "            ch=0\n",
    "            nfa = Set_states()\n",
    "        elif(ch == 2):\n",
    "            ch=0\n",
    "            # Input the string\n",
    "            input_string = input(\"Enter a string (0s and 1s only): \")\n",
    "        \n",
    "            # Check the validity\n",
    "            print(\"String Validatin by NFA using BFS.\")\n",
    "            \n",
    "            if Process_NFA_bfs(nfa, input_string):\n",
    "                print(\"String is valid and accepted by the NFA.\")\n",
    "            else:\n",
    "                print(\"String is invalid and not accepted by the NFA.\")\n",
    "            \n",
    "    print(\"Exiting Program\")\n"
   ]
  }
 ],
 "metadata": {
  "kernelspec": {
   "display_name": "Python 3 (ipykernel)",
   "language": "python",
   "name": "python3"
  },
  "language_info": {
   "codemirror_mode": {
    "name": "ipython",
    "version": 3
   },
   "file_extension": ".py",
   "mimetype": "text/x-python",
   "name": "python",
   "nbconvert_exporter": "python",
   "pygments_lexer": "ipython3",
   "version": "3.10.12"
  }
 },
 "nbformat": 4,
 "nbformat_minor": 5
}
