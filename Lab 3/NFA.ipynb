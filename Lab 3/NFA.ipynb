{
 "cells": [
  {
   "cell_type": "code",
   "execution_count": 6,
   "id": "11cf0643-2cdf-423f-b2de-5ffedf8de149",
   "metadata": {},
   "outputs": [],
   "source": [
    "def Set_states():\n",
    "    nfa = {\n",
    "    'states': set(),\n",
    "    'alphabet': set(),\n",
    "    'transitions': {},\n",
    "    'start_state': None,\n",
    "    'accept_states': set()\n",
    "    }\n",
    "\n",
    "\n",
    "    # Input states\n",
    "    states_input = input(\"Enter states (comma-separated): \")\n",
    "    nfa['states'] = set(states_input.split(','))\n",
    "    \n",
    "    # Input alphabet\n",
    "    alphabet_input = input(\"Enter alphabet symbols (comma-separated): \")\n",
    "    nfa['alphabet'] = set(alphabet_input.split(','))\n",
    "    \n",
    "    # Input transitions\n",
    "    print(\"Enter transitions (Enter 'done' when finished):\")\n",
    "    while True:\n",
    "        state = input(\"From state (Enter 'done' to stop): \")\n",
    "        if state == 'done':\n",
    "            break\n",
    "        symbol = input(\"On symbol: \")\n",
    "        to_states_input = input(\"To states (comma-separated): \")\n",
    "        to_states = set(to_states_input.split(','))\n",
    "        if state not in nfa['transitions']:\n",
    "            nfa['transitions'][state] = {}\n",
    "        nfa['transitions'][state][symbol] = to_states\n",
    "    # Input initial state\n",
    "    start_state = input(\"Enter initial state: \")\n",
    "    self.nfa['start_state'] = start_state\n",
    "    # Input accepting states\n",
    "    accept_states_input = input(\"Enter accepting states (comma-separated): \")\n",
    "    self.nfa['accept_states'] = set(accept_states_input.split(','))\n",
    "    return nfa\n",
    "    \n"
   ]
  },
  {
   "cell_type": "code",
   "execution_count": 4,
   "id": "209b8e4e-08b3-4398-bd8a-2daf199db6e3",
   "metadata": {},
   "outputs": [],
   "source": [
    "def Process_NFA_dfs(nfa,Input_string):\n",
    "    \"\"\"\n",
    "    Run the NFA on the given input string and check if it's accepted or not using DFS\n",
    "    \"\"\"\n",
    "    current_states = {nfa['initial_state']}\n",
    "    print(f\"Start state: {current_states}\")\n",
    "    for symbol in Input_string:\n",
    "        if symbol not in nfa['alphabet']:\n",
    "            print(f\"Invalid symbol: {symbol}\")\n",
    "    return False # Invalid symbol\n",
    "    \n",
    "    next_states = set()\n",
    "    for state in current_states:\n",
    "        next_states.update(nfa['transitions'][state].get(symbol,set()))\n",
    "    if not next_states:\n",
    "        print(f\"No transition from states {current_states} with symbol {symbol}\")\n",
    "    return False\n",
    "    print(f\"Transition from states {current_states} to states {next_states} with symbol {symbol}\")\n",
    "    current_states = next_states\n",
    "    return any(state in nfa['accept_states'] for state in current_states)\n"
   ]
  },
  {
   "cell_type": "code",
   "execution_count": 3,
   "id": "40c08f29-57a2-4340-b698-9437af3fd1b7",
   "metadata": {},
   "outputs": [],
   "source": [
    "def Process_NFA_bfs(nfa, input_string):\n",
    "    \n",
    "    \"\"\"\n",
    "    Run the NFA on the given input string and check if it's accepted or not using BFS.\n",
    "    \"\"\"\n",
    "    current_states = {nfa['initial_state']}\n",
    "    queue = deque()\n",
    "    queue.append(current_states)\n",
    "    \n",
    "    print(f\"Start state: {current_states}\")\n",
    "\n",
    "    for symbol in input_string:\n",
    "        if symbol not in nfa['alphabet']:\n",
    "            print(f\"Invalid symbol: {symbol}\")\n",
    "            return False  # Invalid symbol\n",
    "\n",
    "        next_states = set()\n",
    "\n",
    "        for state in current_states:\n",
    "            next_states.update(nfa['transitions'][state].get(symbol, set()))\n",
    "\n",
    "        if not next_states:\n",
    "            print(f\"No transition from states {current_states} with symbol {symbol}\")\n",
    "            return False\n",
    "\n",
    "        print(f\"Transition from states {current_states} to states {next_states} with symbol {symbol}\")\n",
    "        \n",
    "        queue.append(next_states)\n",
    "        current_states = next_states\n",
    "\n",
    "    # Continue BFS until the end of the input string\n",
    "    while queue:\n",
    "        current_states = queue.popleft()\n",
    "\n",
    "    return any(state in nfa['accept_states'] for state in current_states)\n"
   ]
  },
  {
   "cell_type": "code",
   "execution_count": 5,
   "id": "1c8ebb72-9de3-4665-ab18-b00e57e0c61b",
   "metadata": {},
   "outputs": [
    {
     "name": "stdin",
     "output_type": "stream",
     "text": [
      "Enter states (comma-separated):  \n",
      "Enter alphabet symbols (comma-separated):  \n"
     ]
    },
    {
     "name": "stdout",
     "output_type": "stream",
     "text": [
      "Enter transitions (Enter 'done' when finished):\n"
     ]
    },
    {
     "name": "stdin",
     "output_type": "stream",
     "text": [
      "From state (Enter 'done' to stop):  \n",
      "On symbol:  \n",
      "To states (comma-separated):  \n",
      "From state (Enter 'done' to stop):  \n",
      "On symbol:  \n",
      "To states (comma-separated):  \n",
      "From state (Enter 'done' to stop):  done\n",
      "Enter initial state:  \n"
     ]
    },
    {
     "ename": "NameError",
     "evalue": "name 'initial_state' is not defined",
     "output_type": "error",
     "traceback": [
      "\u001b[0;31m---------------------------------------------------------------------------\u001b[0m",
      "\u001b[0;31mNameError\u001b[0m                                 Traceback (most recent call last)",
      "Cell \u001b[0;32mIn[5], line 3\u001b[0m\n\u001b[1;32m      1\u001b[0m \u001b[38;5;28;01mif\u001b[39;00m \u001b[38;5;18m__name__\u001b[39m \u001b[38;5;241m==\u001b[39m \u001b[38;5;124m\"\u001b[39m\u001b[38;5;124m__main__\u001b[39m\u001b[38;5;124m\"\u001b[39m:\n\u001b[0;32m----> 3\u001b[0m     nfa \u001b[38;5;241m=\u001b[39m \u001b[43mSet_states\u001b[49m\u001b[43m(\u001b[49m\u001b[43m)\u001b[49m\n\u001b[1;32m      5\u001b[0m     \u001b[38;5;66;03m# Input the string\u001b[39;00m\n\u001b[1;32m      6\u001b[0m     input_string \u001b[38;5;241m=\u001b[39m \u001b[38;5;28minput\u001b[39m(\u001b[38;5;124m\"\u001b[39m\u001b[38;5;124mEnter a string (0s and 1s only): \u001b[39m\u001b[38;5;124m\"\u001b[39m)\n",
      "Cell \u001b[0;32mIn[1], line 33\u001b[0m, in \u001b[0;36mSet_states\u001b[0;34m()\u001b[0m\n\u001b[1;32m     31\u001b[0m \u001b[38;5;66;03m# Input initial state\u001b[39;00m\n\u001b[1;32m     32\u001b[0m start_state \u001b[38;5;241m=\u001b[39m \u001b[38;5;28minput\u001b[39m(\u001b[38;5;124m\"\u001b[39m\u001b[38;5;124mEnter initial state: \u001b[39m\u001b[38;5;124m\"\u001b[39m)\n\u001b[0;32m---> 33\u001b[0m \u001b[38;5;28mself\u001b[39m\u001b[38;5;241m.\u001b[39mnfa[\u001b[38;5;124m'\u001b[39m\u001b[38;5;124mstart_state\u001b[39m\u001b[38;5;124m'\u001b[39m] \u001b[38;5;241m=\u001b[39m \u001b[43minitial_state\u001b[49m\n\u001b[1;32m     34\u001b[0m \u001b[38;5;66;03m# Input accepting states\u001b[39;00m\n\u001b[1;32m     35\u001b[0m accept_states_input \u001b[38;5;241m=\u001b[39m \u001b[38;5;28minput\u001b[39m(\u001b[38;5;124m\"\u001b[39m\u001b[38;5;124mEnter accepting states (comma-separated): \u001b[39m\u001b[38;5;124m\"\u001b[39m)\n",
      "\u001b[0;31mNameError\u001b[0m: name 'initial_state' is not defined"
     ]
    }
   ],
   "source": [
    "\n",
    "if __name__ == \"__main__\":\n",
    "   \n",
    "    nfa = Set_states()\n",
    "    \n",
    "    # Input the string\n",
    "    input_string = input(\"Enter a string (0s and 1s only): \")\n",
    "\n",
    "    # Check the validity\n",
    "    print(\"String Validatin by NFA using BFS.\")\n",
    "    \n",
    "    if Process_NFA_bfs(nfa, input_string):\n",
    "        print(\"String is valid and accepted by the NFA.\")\n",
    "    else:\n",
    "        print(\"String is invalid and not accepted by the NFA.\")\n",
    "    \n",
    "    print(\"String Validatin by NFA using DFS.\")\n",
    "    \n",
    "    if Process_NFA_dfs(nfa, input_string):\n",
    "        print(\"String is valid and accepted by the NFA.\")\n",
    "    else:\n",
    "        print(\"String is invalid and not accepted by the NFA.\")\n",
    "    \n"
   ]
  }
 ],
 "metadata": {
  "kernelspec": {
   "display_name": "Python 3 (ipykernel)",
   "language": "python",
   "name": "python3"
  },
  "language_info": {
   "codemirror_mode": {
    "name": "ipython",
    "version": 3
   },
   "file_extension": ".py",
   "mimetype": "text/x-python",
   "name": "python",
   "nbconvert_exporter": "python",
   "pygments_lexer": "ipython3",
   "version": "3.10.12"
  }
 },
 "nbformat": 4,
 "nbformat_minor": 5
}
