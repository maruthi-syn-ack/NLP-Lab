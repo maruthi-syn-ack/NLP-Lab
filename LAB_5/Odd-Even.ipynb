{
 "cells": [
  {
   "cell_type": "markdown",
   "id": "e1b35466-43a5-4329-b465-c228ee419129",
   "metadata": {},
   "source": [
    "## Write a Program to read an input file delete the odd number in text and replace with equivalent words. Finaly write the updates text into an output file . "
   ]
  },
  {
   "cell_type": "code",
   "execution_count": 24,
   "id": "7c5e26d9-84e6-4546-9c5e-f0d601acdd35",
   "metadata": {},
   "outputs": [],
   "source": [
    "# Libraries Imports \n",
    "import spacy,nltk \n",
    "import re \n",
    "import inflect\n"
   ]
  },
  {
   "cell_type": "code",
   "execution_count": 16,
   "id": "18ae4cdf-4fc4-4f1e-a614-8866373008ed",
   "metadata": {},
   "outputs": [
    {
     "name": "stdout",
     "output_type": "stream",
     "text": [
      "Defaulting to user installation because normal site-packages is not writeable\n",
      "Collecting inflect\n",
      "  Downloading inflect-7.0.0-py3-none-any.whl (34 kB)\n",
      "Requirement already satisfied: typing-extensions in /home/dell/.local/lib/python3.10/site-packages (from inflect) (4.8.0)\n",
      "Requirement already satisfied: pydantic>=1.9.1 in /home/dell/.local/lib/python3.10/site-packages (from inflect) (2.4.2)\n",
      "Requirement already satisfied: pydantic-core==2.10.1 in /home/dell/.local/lib/python3.10/site-packages (from pydantic>=1.9.1->inflect) (2.10.1)\n",
      "Requirement already satisfied: annotated-types>=0.4.0 in /home/dell/.local/lib/python3.10/site-packages (from pydantic>=1.9.1->inflect) (0.6.0)\n",
      "Installing collected packages: inflect\n",
      "Successfully installed inflect-7.0.0\n"
     ]
    }
   ],
   "source": [
    "!pip install inflect\n"
   ]
  },
  {
   "cell_type": "code",
   "execution_count": 19,
   "id": "a1bf4192-616c-48fb-af9d-741dd7ca167d",
   "metadata": {},
   "outputs": [
    {
     "name": "stdout",
     "output_type": "stream",
     "text": [
      "<class 'str'>\n",
      "[ ' twelve  thirty-four  fifty-six  eight  fifty six ' ]\n"
     ]
    }
   ],
   "source": [
    "import spacy\n",
    "import re\n",
    "import inflect\n",
    "\n",
    "# Load the language model\n",
    "nlp = spacy.load(\"en_core_web_sm\")\n",
    "\n",
    "# Initialize inflect engine\n",
    "p = inflect.engine()\n",
    "\n",
    "def replacedig(num):\n",
    "    if num % 2 == 0:\n",
    "        return p.number_to_words(int(num))\n",
    "    else:\n",
    "        return ''\n",
    "\n",
    "file_name=input(\"Enter Input File name \")\n",
    "output_file =input(\"Enter Output File name \")\n",
    "\n",
    "with open(file_name) as infile:\n",
    "    corp = infile.readlines()\n",
    "# corp = \"Abhi was born on 2002 but he is still alive in 2023 \"\n",
    "\n",
    "# Process the text using spaCy\n",
    "doc = nlp(str(corp))\n",
    "\n",
    "# Replace digits with words and join them\n",
    "updated_text = ' '.join([replacedig(int(token.text)) if token.is_digit else token.text for token in doc])\n",
    "print(type(updated_text))\n",
    "print(updated_text)\n",
    "with open(output_file, 'w') as outfile:\n",
    "            outfile.write(''.join(updated_text[4:-4]))"
   ]
  }
 ],
 "metadata": {
  "kernelspec": {
   "display_name": "Python 3 (ipykernel)",
   "language": "python",
   "name": "python3"
  },
  "language_info": {
   "codemirror_mode": {
    "name": "ipython",
    "version": 3
   },
   "file_extension": ".py",
   "mimetype": "text/x-python",
   "name": "python",
   "nbconvert_exporter": "python",
   "pygments_lexer": "ipython3",
   "version": "3.10.12"
  }
 },
 "nbformat": 4,
 "nbformat_minor": 5
}
