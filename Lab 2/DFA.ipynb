{
 "cells": [
  {
   "cell_type": "markdown",
   "metadata": {},
   "source": [
    "Regular Language: Number divisible by 2\n",
    "\n",
    "\"This code implements a DFA. It takes as input the set of states, the alphabet, the transition function, the start state, and the set of accept states. \n",
    "It then processes the input string by iterating over the characters in the input string and updating the current state. \n",
    "When the loop terminates, the DFA accepts the input string if the current state is an accept state, and rejects the input string otherwise. \n",
    "The transition function is represented as a dictionary that maps each (state, input character) pair to a new state.\""
   ]
  },
  {
   "cell_type": "code",
   "execution_count": 29,
   "metadata": {},
   "outputs": [],
   "source": [
    "\n",
    "class DFA:\n",
    "    def __init__(self, states, alphabet, transition, start_state, accept_states):\n",
    "        self.states = states\n",
    "        self.alphabet = alphabet\n",
    "        self.transition = transition\n",
    "        self.current_state = start_state\n",
    "        self.accept_states = accept_states\n",
    "\n",
    "    def process_input(self, input_string):\n",
    "        \n",
    "        for char in input_string:\n",
    "            if char not in self.alphabet:\n",
    "                return False  # Reject if the input contains characters not in the alphabet\n",
    "            self.current_state = self.transition.get((self.current_state, char), None)\n",
    "            if self.current_state is None:\n",
    "                return False  # Transition to a dead state\n",
    "\n",
    "        return self.current_state in self.accept_states\n"
   ]
  },
  {
   "cell_type": "code",
   "execution_count": 42,
   "metadata": {},
   "outputs": [
    {
     "name": "stdout",
     "output_type": "stream",
     "text": [
      "Accepted\n"
     ]
    }
   ],
   "source": [
    "if __name__ == '__main__':\n",
    "    # Define the 5-tuple for the DFA that accepts binary numbers divisible by 2\n",
    "    states = {'q0', 'q1'}\n",
    "    alphabet = {'0', '1'}\n",
    "    start_state = 'q0'\n",
    "    accept_states = {'q0'}\n",
    "\n",
    "    # Define the transition function as a dictionary\n",
    "    transition = {\n",
    "        ('q0', '0'): 'q0',\n",
    "        ('q0', '1'): 'q1',\n",
    "        ('q1', '0'): 'q0',\n",
    "        ('q1', '1'): 'q1',\n",
    "    }\n",
    "\n",
    "    # Create a DFA instance\n",
    "    dfa = DFA(states, alphabet, transition, start_state, accept_states)\n",
    "\n",
    "    # Get the input string from the user\n",
    "    input_string = input(\"Enter a binary number: \")\n",
    "\n",
    "    # Run the automaton and print the result\n",
    "    result = dfa.process_input(input_string)\n",
    "    if result:\n",
    "        print(\"Accepted\")\n",
    "    else:\n",
    "        print(\"Rejected\")"
   ]
  }
 ],
 "metadata": {
  "kernelspec": {
   "display_name": ".venv",
   "language": "python",
   "name": "python3"
  },
  "language_info": {
   "codemirror_mode": {
    "name": "ipython",
    "version": 3
   },
   "file_extension": ".py",
   "mimetype": "text/x-python",
   "name": "python",
   "nbconvert_exporter": "python",
   "pygments_lexer": "ipython3",
   "version": "3.10.11"
  }
 },
 "nbformat": 4,
 "nbformat_minor": 2
}
