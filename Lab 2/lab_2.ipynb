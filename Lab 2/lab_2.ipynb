{
 "cells": [
  {
   "cell_type": "code",
   "execution_count": 20,
   "id": "4c79875e-1286-4098-b58e-f9943a80d826",
   "metadata": {},
   "outputs": [
    {
     "data": {
      "text/plain": [
       "'/home/dell/Documents/NLP/1SI20AD009/Lab1/Test1/Test1'"
      ]
     },
     "execution_count": 20,
     "metadata": {},
     "output_type": "execute_result"
    }
   ],
   "source": [
    "# Accept text file as input corpuses \n",
    "import os\n",
    "import re \n",
    "os.getcwd()\n",
    "#os.mkdir(\"Lab1\")\n",
    "#os.chdir(\"Lab1\")\n"
   ]
  },
  {
   "cell_type": "code",
   "execution_count": 8,
   "id": "a6654b60-cc9c-4b2e-8d7e-586ac5d6a238",
   "metadata": {},
   "outputs": [
    {
     "data": {
      "text/plain": [
       "'/home/dell/Documents/NLP/1SI20AD009/Lab1'"
      ]
     },
     "execution_count": 8,
     "metadata": {},
     "output_type": "execute_result"
    }
   ],
   "source": []
  },
  {
   "cell_type": "code",
   "execution_count": 120,
   "id": "f8e58835-384c-4e92-b0bf-9fa3c3c91158",
   "metadata": {},
   "outputs": [],
   "source": [
    "def intial_setup():\n",
    "    folder_name=input(\"Enter a folder name\")\n",
    "    os.mkdir(folder_name)\n",
    "    os.chdir(folder_name)\n",
    "    os.getcwd()\n",
    "    Corpuse = dict()\n",
    "    \n",
    "    for i in range(1,6):\n",
    "        file_name=input(\"Enter File name \"+str(i))\n",
    "        f=open(file_name,\"w+\")\n",
    "        Contents= input(\"Enter File Contents\")\n",
    "        Corpuse[file_name]= Contents\n",
    "        f.write(Contents)\n",
    "        f.close\n",
    "    return Corpuse"
   ]
  },
  {
   "cell_type": "code",
   "execution_count": 126,
   "id": "28a12b46-bdaf-4a26-82fb-ac6902e143fd",
   "metadata": {},
   "outputs": [],
   "source": [
    "def search(Corpuse):\n",
    "    regex = str(input(\"Enter a regular Expression to search \"))\n",
    "    # regex = re.compile(regex)\n",
    "    # inargass 'str'> <class 'str'>\n",
    "    for file,contents in Corpuse.items():\n",
    "        txt = str(contents)\n",
    "        res = re.search(regex,contents)\n",
    "        if res!= None:\n",
    "            # print(\"Found patren {}  as {}  in ' {} ' \".format(regex,highlight_one(contents,res.group()),file\n",
    "            print(\"Found patren {}  as {}  in ' {} ' \".format(regex,res.group(),file))\n",
    "        else:\n",
    "            print(\"No pattren found in '{}' \".format(file))"
   ]
  },
  {
   "cell_type": "code",
   "execution_count": 17,
   "id": "0ba6eb0c-353a-4358-a073-b8baa37a29ef",
   "metadata": {},
   "outputs": [
    {
     "name": "stdin",
     "output_type": "stream",
     "text": [
      "Enter a folder name Test1\n",
      "Enter File name 1 1.txt\n",
      "Enter File Contents The set of states (Q), alphabets (Σ) and accepting states (F) are stored as lists of strings.\n",
      "Enter File name 2 2.txt\n",
      "Enter File Contents Getting input for the first four variables is straightforward, with some string splitting is required. But for the transition function, we need to generate all possible combinations of Q × Σ. And, then take the input for each of them.\n",
      "Enter File name 3 3.txt\n",
      "Enter File Contents For this, we keep two nested for loops, one for the states Q and the other for the alphabets Σ. If the user enters ‘.’ (period) as the input, the transition will be stored as None. This signals that the DFA has reached a dead or rejected state.\n",
      "Enter File name 4 4.txt\n",
      "Enter File Contents the DFA reaches a dead state or finishes on a non-accepting state (DFA rejects the string)\n",
      "Enter File name 5 5.txt\n",
      "Enter File Contents The languages which are accepted by finite automata are called regular languages. Regular expressions are patterns that are used to describe regular languages.  A regular expression defines the structure of a regular language. So, it can be used to identify/validate whether a given string follows the rules of a formal language. Regular expressions are converted into finite automata to perform validation and identification.\n"
     ]
    }
   ],
   "source": [
    "Corpuse = intial_setup()"
   ]
  },
  {
   "cell_type": "code",
   "execution_count": 122,
   "id": "8dd2c691-8a42-4712-bf63-a1c15a3e205e",
   "metadata": {},
   "outputs": [
    {
     "name": "stdout",
     "output_type": "stream",
     "text": [
      "{'1.txt': 'The set of states (Q), alphabets (Σ) and accepting states (F) are stored as lists of strings.', '2.txt': 'Getting input for the first four variables is straightforward, with some string splitting is required. But for the transition function, we need to generate all possible combinations of Q × Σ. And, then take the input for each of them.', '3.txt': 'For this, we keep two nested for loops, one for the states Q and the other for the alphabets Σ. If the user enters ‘.’ (period) as the input, the transition will be stored as None. This signals that the DFA has reached a dead or rejected state.', '4.txt': 'the DFA reaches a dead state or finishes on a non-accepting state (DFA rejects the string)', '5.txt': 'The languages which are accepted by finite automata are called regular languages. Regular expressions are patterns that are used to describe regular languages.  A regular expression defines the structure of a regular language. So, it can be used to identify/validate whether a given string follows the rules of a formal language. Regular expressions are converted into finite automata to perform validation and identification.'}\n",
      "<class 'str'> <class 'str'>\n",
      "<class 'str'> <class 'str'>\n",
      "<class 'str'> <class 'str'>\n",
      "<class 'str'> <class 'str'>\n",
      "<class 'str'> <class 'str'>\n"
     ]
    }
   ],
   "source": [
    "print(Corpuse)\n",
    "for file,contents in Corpuse.items():\n",
    "    print(type(file),type(contents))\n",
    "def highlight_one(text, keyword):\n",
    "    replacement = \"\\033[91m\" + keyword + \"\\033[39m\"\n",
    "    text = re.sub(re.escape(keyword), replacement, text, flags=re.I)\n",
    "    return text"
   ]
  },
  {
   "cell_type": "code",
   "execution_count": 128,
   "id": "2d77c7ee-b8c1-4c64-b8e6-f406e8c90506",
   "metadata": {},
   "outputs": [
    {
     "name": "stdin",
     "output_type": "stream",
     "text": [
      "Enter a regular Expression to search  \\b\\w+ing\\b\n"
     ]
    },
    {
     "name": "stdout",
     "output_type": "stream",
     "text": [
      "Found patren \\b\\w+ing\\b  as accepting  in ' 1.txt ' \n",
      "Found patren \\b\\w+ing\\b  as Getting  in ' 2.txt ' \n",
      "No pattren found in '3.txt' \n",
      "Found patren \\b\\w+ing\\b  as accepting  in ' 4.txt ' \n",
      "Found patren \\b\\w+ing\\b  as string  in ' 5.txt ' \n"
     ]
    }
   ],
   "source": [
    "search(Corpuse=Corpuse)\n"
   ]
  },
  {
   "cell_type": "code",
   "execution_count": 113,
   "id": "dcb7ae74-29e2-48f8-bef0-45dc8206b54f",
   "metadata": {},
   "outputs": [
    {
     "name": "stdout",
     "output_type": "stream",
     "text": [
      "['Getting', 'string', 'splitting', 'playing']\n"
     ]
    }
   ],
   "source": []
  },
  {
   "cell_type": "code",
   "execution_count": 121,
   "id": "4e8058d6-ae1b-40f4-8009-9b86333ff495",
   "metadata": {},
   "outputs": [
    {
     "name": "stdout",
     "output_type": "stream",
     "text": [
      "for\n"
     ]
    }
   ],
   "source": []
  }
 ],
 "metadata": {
  "kernelspec": {
   "display_name": "Python 3 (ipykernel)",
   "language": "python",
   "name": "python3"
  },
  "language_info": {
   "codemirror_mode": {
    "name": "ipython",
    "version": 3
   },
   "file_extension": ".py",
   "mimetype": "text/x-python",
   "name": "python",
   "nbconvert_exporter": "python",
   "pygments_lexer": "ipython3",
   "version": "3.10.12"
  }
 },
 "nbformat": 4,
 "nbformat_minor": 5
}
