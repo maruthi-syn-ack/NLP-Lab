{
 "cells": [
  {
   "cell_type": "code",
   "execution_count": 1,
   "id": "4c79875e-1286-4098-b58e-f9943a80d826",
   "metadata": {},
   "outputs": [
    {
     "data": {
      "text/plain": [
       "'c:\\\\Users\\\\marut\\\\OneDrive\\\\Documents\\\\Programming\\\\NLP-Lab\\\\Lab 2'"
      ]
     },
     "execution_count": 1,
     "metadata": {},
     "output_type": "execute_result"
    }
   ],
   "source": [
    "# Required Libraries\n",
    "import os\n",
    "import re "
   ]
  },
  {
   "cell_type": "code",
   "execution_count": 24,
   "id": "f8e58835-384c-4e92-b0bf-9fa3c3c91158",
   "metadata": {},
   "outputs": [],
   "source": [
    "def intial_setup():\n",
    "    folder_name=input(\"Enter a folder name\")\n",
    "    os.mkdir(folder_name)\n",
    "    os.chdir(folder_name)\n",
    "    os.getcwd()\n",
    "    Corpuse = dict()\n",
    "    \n",
    "    for i in range(1,6):\n",
    "        file_name=input(\"Enter File name \"+str(i))\n",
    "        f=open(file_name,\"w+\")\n",
    "        Contents= input(\"Enter File Contents\")\n",
    "        Corpuse[file_name]= Contents\n",
    "        f.write(Contents)\n",
    "        f.close\n",
    "    return Corpuse"
   ]
  },
  {
   "cell_type": "code",
   "execution_count": 25,
   "id": "314c69c7",
   "metadata": {},
   "outputs": [],
   "source": [
    "def highlight(match):\n",
    "    return f'\\033[91;1m{match.group()}\\033[0m'\n"
   ]
  },
  {
   "cell_type": "code",
   "execution_count": 26,
   "id": "28a12b46-bdaf-4a26-82fb-ac6902e143fd",
   "metadata": {},
   "outputs": [],
   "source": [
    "def search(Corpuse):\n",
    "    regex = str(input(\"Enter a regular Expression to search \"))\n",
    "    regex = re.compile(regex)\n",
    "    for file,contents in Corpuse.items():\n",
    "        txt = str(contents)\n",
    "        res = re.search(regex,contents)\n",
    "        if res!= None:\n",
    "            mod_str = re.sub(res.group(),highlight(res),res.string) # modifiy the string to highlight the pattren\n",
    "            print(\"Found patren {}  as {}  in ' {} ' \".format(regex,mod_str,file))\n",
    "        else:\n",
    "            print(\"No pattren found in '{}' \".format(file))"
   ]
  },
  {
   "cell_type": "code",
   "execution_count": 28,
   "id": "0ba6eb0c-353a-4358-a073-b8baa37a29ef",
   "metadata": {},
   "outputs": [],
   "source": [
    "def main():\n",
    "    Corpuse = intial_setup()\n",
    "    search(Corpuse)"
   ]
  },
  {
   "cell_type": "code",
   "execution_count": 27,
   "id": "8dd2c691-8a42-4712-bf63-a1c15a3e205e",
   "metadata": {},
   "outputs": [],
   "source": [
    "Test_corpus = {\n",
    "    1: \"\"\"\n",
    "        2023-10-29\n",
    "        John Doe\n",
    "        john.doe@example.com\n",
    "\n",
    "        This is the first line of text.\n",
    "        This is the second line of text.\n",
    "        This is the third line of text.\n",
    "        This is the fourth line of text.\n",
    "        This is the fifth line of text.\n",
    "    \"\"\",\n",
    "    2: \"\"\"\n",
    "        2023-10-28\n",
    "        Jane Doe\n",
    "        jane.doe@example.com\n",
    "\n",
    "        This is the first line of text for the second entry.\n",
    "        This is the second line of text for the second entry.\n",
    "        This is the third line of text for the second entry.\n",
    "        This is the fourth line of text for the second entry.\n",
    "        This is the fifth line of text for the second entry.\n",
    "    \"\"\",\n",
    "    3: \"\"\"\n",
    "        2023-10-27\n",
    "        Peter Parker\n",
    "        peter.parker@example.com\n",
    "\n",
    "        This is the first line of text for the third entry.\n",
    "        This is the second line of text for the third entry.\n",
    "        This is the third line of text for the third entry.\n",
    "        This is the fourth line of text for the third entry.\n",
    "        This is the fifth line of text for the third entry.\n",
    "    \"\"\",\n",
    "    4: \"\"\"\n",
    "        2023-10-26\n",
    "        Mary Jane Watson\n",
    "        mary.jane.watson@example.com\n",
    "\n",
    "        This is the first line of text for the fourth entry.\n",
    "        This is the second line of text for the fourth entry.\n",
    "        This is the third line of text for the fourth entry.\n",
    "        This is the fourth line of text for the fourth entry.\n",
    "        This is the fifth line of text for the fourth entry.\n",
    "    \"\"\",\n",
    "    5: \"\"\"\n",
    "        2023-10-25\n",
    "        Bruce Wayne\n",
    "        bruce.wayne@example.com\n",
    "\n",
    "        This is the first line of text for the fifth entry.\n",
    "        This is the second line of text for the fifth entry.\n",
    "        This is the third line of text for the fifth entry.\n",
    "        This is the fourth line of text for the fifth entry.\n",
    "        This is the fifth line of text for the fifth entry.\n",
    "    \"\"\",\n",
    "}\n"
   ]
  },
  {
   "cell_type": "markdown",
   "id": "ea70c980",
   "metadata": {},
   "source": [
    "```Regex Patrrens :```\n",
    "date_regex = r\"\\d{4}-\\d{2}-\\d{2}\"\n",
    "\n",
    "email_regex = r\"[a-zA-Z0-9_.+-]+@[a-zA-Z0-9-]+\\.[a-zA-Z0-9-.]+\"\n",
    "    \n",
    "name_regex = r\"[a-zA-Z]+\\s[a-zA-Z]+\""
   ]
  }
 ],
 "metadata": {
  "kernelspec": {
   "display_name": "Python 3 (ipykernel)",
   "language": "python",
   "name": "python3"
  },
  "language_info": {
   "codemirror_mode": {
    "name": "ipython",
    "version": 3
   },
   "file_extension": ".py",
   "mimetype": "text/x-python",
   "name": "python",
   "nbconvert_exporter": "python",
   "pygments_lexer": "ipython3",
   "version": "3.10.11"
  }
 },
 "nbformat": 4,
 "nbformat_minor": 5
}
